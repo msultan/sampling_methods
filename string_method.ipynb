{
 "cells": [
  {
   "cell_type": "code",
   "execution_count": 1,
   "metadata": {
    "collapsed": true
   },
   "outputs": [],
   "source": [
    "#my implementation of the string method"
   ]
  },
  {
   "cell_type": "code",
   "execution_count": 9,
   "metadata": {
    "collapsed": false
   },
   "outputs": [
    {
     "name": "stdout",
     "output_type": "stream",
     "text": [
      "Populating the interactive namespace from numpy and matplotlib\n"
     ]
    }
   ],
   "source": [
    "%pylab inline\n",
    "import numpy as np\n",
    "from msmbuilder.example_datasets import MullerPotential\n",
    "from scipy import interpolate\n",
    "from scipy import spatial\n",
    "from msmbuilder.example_datasets._muller import propagate,"
   ]
  },
  {
   "cell_type": "code",
   "execution_count": null,
   "metadata": {
    "collapsed": false
   },
   "outputs": [],
   "source": []
  },
  {
   "cell_type": "code",
   "execution_count": 10,
   "metadata": {
    "collapsed": false
   },
   "outputs": [
    {
     "data": {
      "image/png": "[encoded data removed]",
      "text/plain": [
       "<matplotlib.figure.Figure at 0x10c5d64a8>"
      ]
     },
     "metadata": {},
     "output_type": "display_data"
    }
   ],
   "source": [
    "mp = MullerPotential()\n",
    "mp.plot()"
   ]
  },
  {
   "cell_type": "code",
   "execution_count": null,
   "metadata": {
    "collapsed": true
   },
   "outputs": [],
   "source": [
    "from "
   ]
  },
  {
   "cell_type": "code",
   "execution_count": 11,
   "metadata": {
    "collapsed": true
   },
   "outputs": [],
   "source": [
    "def string_method(dim_wanted,start,end,N,MaxIter,interp_type,lxyt=None,starting_string=None):\n",
    "     #dimensionality\n",
    "     d = np.shape(start)[0]\n",
    "     #timestep\n",
    "     dt = 0.0001\n",
    "\n",
    "     #equally space points to re-orient string\n",
    "     alpha_eq = np.linspace(0,1,N)\n",
    "     #actual string\n",
    "     string = np.zeros((N,d))\n",
    "     #start and end points\n",
    "     string[0,:] = start\n",
    "     string[-1,:] = end\n",
    "     #forces\n",
    "     F = np.zeros(np.shape(start))\n",
    "     alpha = np.zeros((N,1))\n",
    "     nstep2 = 0\n",
    "     #finite temperate parameters\n",
    "     string_h = dt #temperature attenuation\n",
    "     mu = 9 ##temperature\n",
    "     #string smoothing coefficient\n",
    "     kap = 0.1\n",
    "     #timestep for string update\n",
    "     ha = 0.1\n",
    "\n",
    "     r1 = np.ones((N,2));\n",
    "     r1[0,:] = 0;\n",
    "     r1[-1,:] = 0;\n",
    "\n",
    "     if lxyt == None:\n",
    "          #start by linearly interpolating\n",
    "          f = interpolate.interp1d([0,1], [start,end],kind=interp_type ,axis=0)\n",
    "          force_obj = muller_force()\n",
    "          string = f(alpha_eq)\n",
    "          initial_string  = np.copy(string)\n",
    "\n",
    "          string_av = np.copy(string)\n",
    "       \n",
    "          kdtree = spatial.kdtree.KDTree(string)\n",
    "          pp.scatter(string[:,0],string[:,1],color='white')\n",
    "          pp.scatter(string[:,0],string[:,1],color='white')\n",
    "     else:\n",
    "          f = interpolate.interp1d(lxyt, starting_string,kind=interp_type ,axis=0)\n",
    "          force_obj = muller_force()\n",
    "          string = f(alpha_eq)\n",
    "          initial_string  = np.copy(string)\n",
    "\n",
    "          string_av = np.copy(string)\n",
    "          ##get the triangluation of each initial string.can use triangulation but i think kdtree\n",
    "          #should work too.\n",
    "          kdtree = spatial.kdtree.KDTree(initial_string)\n",
    "\n",
    "\n",
    "     for i in np.arange(MaxIter):\n",
    "         #doing the force updaes to get new energy minimal but adding a small \\\n",
    "         #noise term\n",
    "          string_copy = np.copy(string)\n",
    "          for j in np.arange(N):\n",
    "               f = force_obj(string[j,:])\n",
    "               string[j,:] = string[j,:] + dt*f + np.sqrt(2*string_h*mu)\\\n",
    "               *np.random.normal(loc=0.0,scale=1.0,size=(1,d))\n",
    "          #print string\n",
    "          #putting the string back to where it belongs.\n",
    "          #figure out if the point has moved away from where it started from\\\n",
    "          # using a kdtree for this\n",
    "\n",
    "          distances,vertex_indices = kdtree.query(string)\n",
    "          neighbor_based_update =  vertex_indices == np.arange(N)\n",
    "          vertex_indices_copy = vertex_indices\n",
    "          #either keep the string if in the same region or move it to an new region\n",
    "          for i,image in enumerate(string):\n",
    "               dis_mat = np.zeros(N)\n",
    "               for j,original in enumerate(initial_string):\n",
    "                    dis_mat[j] = np.linalg.norm(original - image)\n",
    "               vertex_indices_copy[i] = np.argmin(dis_mat)\n",
    "          string[:,0] = string[:,0]*neighbor_based_update +\\\n",
    "           string_copy[:,0]*(1-neighbor_based_update)\n",
    "          string[:,1] = string[:,1]*neighbor_based_update +\\\n",
    "           string_copy[:,1]*(1-neighbor_based_update)\n",
    "          ##getting the new rolling averages\n",
    "          string_av = (string_av*(i+nstep2)+string)/(i+nstep2+1)\n",
    "\n",
    "          ## get shift in towards the middle\n",
    "          #print np.roll(initial_string,-1,axis=0)\n",
    "\n",
    "          string_shift = np.roll(initial_string,-1,axis=0) + np.roll(initial_string,1,axis=0)\\\n",
    "          - 2*initial_string\n",
    "          #move initial string towards the average\n",
    "          #print string_shift\n",
    "          initial_string = initial_string -(initial_string-string_av)*ha\n",
    "          +kap*ha*N*r1*string_shift\n",
    "          #print string_shift\n",
    "          #get the dx\n",
    "\n",
    "          string_shift = initial_string - np.roll(initial_string,1,axis=0)\n",
    "          string_shift[0,:] = 0\n",
    "\n",
    "          #we need to associate every point on the string with number\n",
    "          lxyt = np.cumsum(np.sqrt(string_shift[:,0] * string_shift[:,0]\\\n",
    "          + string_shift[:,1] * string_shift[:,1]))\n",
    "          #normalize the number\n",
    "          lxyt = lxyt/lxyt[-1]\n",
    "          #set up a function to take in lxyt\n",
    "          my_func =  interpolate.interp1d(lxyt,initial_string,kind='linear',axis=0)\n",
    "          #extrapolate equally spaced points to get the initial string.\n",
    "          initial_string = my_func(alpha_eq)\n",
    "\n",
    "          kdtree = spatial.kdtree.KDTree(initial_string)\n",
    "          distances,vertex_indices = kdtree.query(string)\n",
    "          neighbor_based_update =  vertex_indices == np.arange(N)\n",
    "          #either keep the string if in the same region or move it to an new region\n",
    "          string[:,0] = string[:,0]*neighbor_based_update +\\\n",
    "           initial_string[:,0]*(1-neighbor_based_update)\n",
    "          string[:,1] = string[:,1]*neighbor_based_update +\\\n",
    "           initial_string[:,1]*(1-neighbor_based_update)"
   ]
  },
  {
   "cell_type": "code",
   "execution_count": 12,
   "metadata": {
    "collapsed": false
   },
   "outputs": [
    {
     "ename": "NameError",
     "evalue": "name 'muller_force' is not defined",
     "output_type": "error",
     "traceback": [
      "\u001b[0;31m---------------------------------------------------------------------------\u001b[0m",
      "\u001b[0;31mNameError\u001b[0m                                 Traceback (most recent call last)",
      "\u001b[0;32m<ipython-input-12-25c2f822f4fc>\u001b[0m in \u001b[0;36m<module>\u001b[0;34m()\u001b[0m\n\u001b[1;32m      2\u001b[0m \u001b[0mend_point\u001b[0m \u001b[0;34m=\u001b[0m \u001b[0;34m[\u001b[0m\u001b[0;36m0.7\u001b[0m\u001b[0;34m,\u001b[0m\u001b[0;36m0.6\u001b[0m\u001b[0;34m]\u001b[0m\u001b[0;34m\u001b[0m\u001b[0m\n\u001b[1;32m      3\u001b[0m \u001b[0;34m\u001b[0m\u001b[0m\n\u001b[0;32m----> 4\u001b[0;31m \u001b[0mlxyt\u001b[0m\u001b[0;34m,\u001b[0m\u001b[0mstring\u001b[0m \u001b[0;34m=\u001b[0m \u001b[0mstring_method\u001b[0m\u001b[0;34m(\u001b[0m\u001b[0;36m2\u001b[0m\u001b[0;34m,\u001b[0m\u001b[0;34m[\u001b[0m\u001b[0;34m-\u001b[0m\u001b[0;36m1\u001b[0m\u001b[0;34m,\u001b[0m\u001b[0;36m0.5\u001b[0m\u001b[0;34m]\u001b[0m\u001b[0;34m,\u001b[0m\u001b[0;34m[\u001b[0m\u001b[0;36m0.7\u001b[0m\u001b[0;34m,\u001b[0m\u001b[0;36m0.6\u001b[0m\u001b[0;34m]\u001b[0m\u001b[0;34m,\u001b[0m\u001b[0;36m5\u001b[0m\u001b[0;34m,\u001b[0m\u001b[0;36m30\u001b[0m\u001b[0;34m,\u001b[0m\u001b[0;34m\"linear\"\u001b[0m\u001b[0;34m)\u001b[0m\u001b[0;34m\u001b[0m\u001b[0m\n\u001b[0m",
      "\u001b[0;32m<ipython-input-11-045794784650>\u001b[0m in \u001b[0;36mstring_method\u001b[0;34m(dim_wanted, start, end, N, MaxIter, interp_type, lxyt, starting_string)\u001b[0m\n\u001b[1;32m     31\u001b[0m           \u001b[0;31m#start by linearly interpolating\u001b[0m\u001b[0;34m\u001b[0m\u001b[0;34m\u001b[0m\u001b[0m\n\u001b[1;32m     32\u001b[0m           \u001b[0mf\u001b[0m \u001b[0;34m=\u001b[0m \u001b[0minterpolate\u001b[0m\u001b[0;34m.\u001b[0m\u001b[0minterp1d\u001b[0m\u001b[0;34m(\u001b[0m\u001b[0;34m[\u001b[0m\u001b[0;36m0\u001b[0m\u001b[0;34m,\u001b[0m\u001b[0;36m1\u001b[0m\u001b[0;34m]\u001b[0m\u001b[0;34m,\u001b[0m \u001b[0;34m[\u001b[0m\u001b[0mstart\u001b[0m\u001b[0;34m,\u001b[0m\u001b[0mend\u001b[0m\u001b[0;34m]\u001b[0m\u001b[0;34m,\u001b[0m\u001b[0mkind\u001b[0m\u001b[0;34m=\u001b[0m\u001b[0minterp_type\u001b[0m \u001b[0;34m,\u001b[0m\u001b[0maxis\u001b[0m\u001b[0;34m=\u001b[0m\u001b[0;36m0\u001b[0m\u001b[0;34m)\u001b[0m\u001b[0;34m\u001b[0m\u001b[0m\n\u001b[0;32m---> 33\u001b[0;31m           \u001b[0mforce_obj\u001b[0m \u001b[0;34m=\u001b[0m \u001b[0mmuller_force\u001b[0m\u001b[0;34m(\u001b[0m\u001b[0;34m)\u001b[0m\u001b[0;34m\u001b[0m\u001b[0m\n\u001b[0m\u001b[1;32m     34\u001b[0m           \u001b[0mstring\u001b[0m \u001b[0;34m=\u001b[0m \u001b[0mf\u001b[0m\u001b[0;34m(\u001b[0m\u001b[0malpha_eq\u001b[0m\u001b[0;34m)\u001b[0m\u001b[0;34m\u001b[0m\u001b[0m\n\u001b[1;32m     35\u001b[0m           \u001b[0minitial_string\u001b[0m  \u001b[0;34m=\u001b[0m \u001b[0mnp\u001b[0m\u001b[0;34m.\u001b[0m\u001b[0mcopy\u001b[0m\u001b[0;34m(\u001b[0m\u001b[0mstring\u001b[0m\u001b[0;34m)\u001b[0m\u001b[0;34m\u001b[0m\u001b[0m\n",
      "\u001b[0;31mNameError\u001b[0m: name 'muller_force' is not defined"
     ]
    }
   ],
   "source": [
    "start_point = [-1,0.5]\n",
    "end_point = [0.7,0.6]\n",
    "\n",
    "lxyt,string = string_method(2,[-1,0.5],[0.7,0.6],5,30,\"linear\")"
   ]
  },
  {
   "cell_type": "code",
   "execution_count": null,
   "metadata": {
    "collapsed": true
   },
   "outputs": [],
   "source": []
  },
  {
   "cell_type": "code",
   "execution_count": null,
   "metadata": {
    "collapsed": true
   },
   "outputs": [],
   "source": []
  },
  {
   "cell_type": "code",
   "execution_count": 6,
   "metadata": {
    "collapsed": true
   },
   "outputs": [],
   "source": []
  },
  {
   "cell_type": "code",
   "execution_count": null,
   "metadata": {
    "collapsed": true
   },
   "outputs": [],
   "source": []
  },
  {
   "cell_type": "code",
   "execution_count": null,
   "metadata": {
    "collapsed": true
   },
   "outputs": [],
   "source": []
  },
  {
   "cell_type": "code",
   "execution_count": null,
   "metadata": {
    "collapsed": true
   },
   "outputs": [],
   "source": []
  },
  {
   "cell_type": "code",
   "execution_count": null,
   "metadata": {
    "collapsed": true
   },
   "outputs": [],
   "source": []
  }
 ],
 "metadata": {
  "kernelspec": {
   "display_name": "Python 3",
   "language": "python",
   "name": "python3"
  },
  "language_info": {
   "codemirror_mode": {
    "name": "ipython",
    "version": 3
   },
   "file_extension": ".py",
   "mimetype": "text/x-python",
   "name": "python",
   "nbconvert_exporter": "python",
   "pygments_lexer": "ipython3",
   "version": "3.5.1"
  }
 },
 "nbformat": 4,
 "nbformat_minor": 0
}
